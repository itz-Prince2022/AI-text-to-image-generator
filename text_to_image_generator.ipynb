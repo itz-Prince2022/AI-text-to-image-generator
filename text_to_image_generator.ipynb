{
  "cells": [
    {
      "cell_type": "markdown",
      "metadata": {
        "id": "view-in-github",
        "colab_type": "text"
      },
      "source": [
        "<a href=\"https://colab.research.google.com/github/itz-Prince2022/AI-text-to-image-generator/blob/main/text_to_image_generator.ipynb\" target=\"_parent\"><img src=\"https://colab.research.google.com/assets/colab-badge.svg\" alt=\"Open In Colab\"/></a>"
      ]
    },
    {
      "cell_type": "markdown",
      "source": [
        "# **PixAI** : AI Text-To-Image Generator\n",
        "\n",
        "Transform words into stunning visuals with PixAI – the most intuitive AI-powered text-to-image generator. Simply describe your idea in plain English, and watch as our advanced AI instantly creates high-quality, unique artwork, photorealistic images, or digital designs. Perfect for artists, marketers, content creators, and dreamers alike."
      ],
      "metadata": {
        "id": "aYTGX_bE2aWW"
      }
    },
    {
      "cell_type": "markdown",
      "source": [
        "**STEP-1: Installing Dependencies**"
      ],
      "metadata": {
        "id": "7hQJ0J9vzJPz"
      }
    },
    {
      "cell_type": "code",
      "source": [
        "from diffusers import StableDiffusionPipeline\n",
        "import torch\n",
        "import gradio as gr"
      ],
      "metadata": {
        "id": "dP_c1OYlzDWW"
      },
      "execution_count": null,
      "outputs": []
    },
    {
      "cell_type": "markdown",
      "source": [
        "**STEP-2: Initialize the pipeline**"
      ],
      "metadata": {
        "id": "KKa4Y0SUz7fx"
      }
    },
    {
      "cell_type": "code",
      "source": [
        "model_id = \"runwayml/stable-diffusion-v1-5\"\n",
        "pipe = StableDiffusionPipeline.from_pretrained(model_id, torch_dtype=torch.float16)\n",
        "pipe = pipe.to(\"cuda\")"
      ],
      "metadata": {
        "id": "qQF9DnImzmhG"
      },
      "execution_count": null,
      "outputs": []
    },
    {
      "cell_type": "markdown",
      "source": [
        "**STEP-3: Defining the Generate Image Function and Taking User Prompt**"
      ],
      "metadata": {
        "id": "sGpmYUxf0HiA"
      }
    },
    {
      "cell_type": "code",
      "source": [
        "def generate_image(prompt):\n",
        "    # Safety check for empty prompts\n",
        "    if not prompt.strip():\n",
        "        raise gr.Error(\"Please enter a valid prompt\")\n",
        "\n",
        "    # Generate image\n",
        "    with torch.autocast(\"cuda\"):\n",
        "        image = pipe(prompt).images[0]\n",
        "    return image"
      ],
      "metadata": {
        "id": "Y_pTcwX8zrvv"
      },
      "execution_count": null,
      "outputs": []
    },
    {
      "cell_type": "markdown",
      "source": [
        "**STEP-4: Create Interface using GRADIO**"
      ],
      "metadata": {
        "id": "OVAkBAvK1F16"
      }
    },
    {
      "cell_type": "code",
      "source": [
        "iface = gr.Interface(\n",
        "    fn=generate_image,\n",
        "    inputs=gr.Textbox(lines=2, placeholder=\"Describe the image you want to generate...\"),\n",
        "    outputs=\"image\",\n",
        "    title=\"AI Text-to-Image Generator\",\n",
        "    description=\"Enter a text prompt to generate an image using Stable Diffusion\"\n",
        ")"
      ],
      "metadata": {
        "id": "tM9tiVaLzwY1"
      },
      "execution_count": null,
      "outputs": []
    },
    {
      "cell_type": "markdown",
      "source": [
        "**STEP-5: Launch the Interface**"
      ],
      "metadata": {
        "id": "6HxGoHxJ1Y9h"
      }
    },
    {
      "cell_type": "code",
      "execution_count": null,
      "metadata": {
        "id": "gXt9EYsWljSY"
      },
      "outputs": [],
      "source": [
        "iface.launch(\n",
        "    share=True,\n",
        "    debug=True,\n",
        "    server_port=7860\n",
        ")"
      ]
    }
  ],
  "metadata": {
    "accelerator": "GPU",
    "colab": {
      "gpuType": "T4",
      "provenance": [],
      "authorship_tag": "ABX9TyOj3WvRd7eqMb84hiJ8smBo",
      "include_colab_link": true
    },
    "kernelspec": {
      "display_name": "Python 3",
      "name": "python3"
    },
    "language_info": {
      "name": "python"
    }
  },
  "nbformat": 4,
  "nbformat_minor": 0
}